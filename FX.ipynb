{
 "cells": [
  {
   "cell_type": "code",
   "execution_count": null,
   "id": "0d997611",
   "metadata": {},
   "outputs": [
    {
     "data": {
      "text/plain": [
       "\"\\nnpx remotion render <entry-point> <composition-id> <output-path> [options]\\n\\n# 示例\\nnpx remotion render src/index.ts MyImage --props '{}' public/video/video-f4b655b1-01be-4b6f-94f4-1cf659486409.mp4\\n\""
      ]
     },
     "execution_count": 1,
     "metadata": {},
     "output_type": "execute_result"
    }
   ],
   "source": [
    "## 使用\n",
    "'''\n",
    "pnpm install\n",
    "pnpm run build\n",
    "pnpm run dev\n",
    "'''\n",
    "\n",
    "## replicate\n",
    "'''\n",
    "1:1  1024x1024\n",
    "9:16 768x1344\n",
    "16:9 1344x768\n",
    "'''\n",
    "\n",
    "## 导出\n",
    "'''\n",
    "npx remotion render <entry-point> <composition-id> <output-path> [options]\n",
    "\n",
    "# 示例\n",
    "npx remotion render src/index.ts MyImage --props=public/full_video/video_json-0c710c5d-4231-4d98-aa09-0a1a0996534c.json public/full_video/video-0c710c5d-4231-4d98-aa09-0a1a0996534c.mp4 --log=verbose\n",
    "'''\n",
    "\n",
    "## 调试\n",
    "'''\n",
    "npx remotion studio --props=public/full_video/video_json-0c710c5d-4231-4d98-aa09-0a1a0996534c.json --config=remotion.config.ts --log=verbose\n",
    "'''"
   ]
  }
 ],
 "metadata": {
  "kernelspec": {
   "display_name": "base",
   "language": "python",
   "name": "python3"
  },
  "language_info": {
   "codemirror_mode": {
    "name": "ipython",
    "version": 3
   },
   "file_extension": ".py",
   "mimetype": "text/x-python",
   "name": "python",
   "nbconvert_exporter": "python",
   "pygments_lexer": "ipython3",
   "version": "3.12.2"
  }
 },
 "nbformat": 4,
 "nbformat_minor": 5
}
