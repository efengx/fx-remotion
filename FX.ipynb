{
 "cells": [
  {
   "cell_type": "code",
   "execution_count": null,
   "id": "0d997611",
   "metadata": {},
   "outputs": [],
   "source": [
    "## 使用\n",
    "'''\n",
    "pnpm install\n",
    "pnpm run build\n",
    "pnpm run dev\n",
    "'''\n",
    "\n",
    "## replicate\n",
    "'''\n",
    "1:1  1024x1024\n",
    "9:16 768x1344\n",
    "16:9 1344x768\n",
    "'''\n",
    "\n",
    "## 导出\n",
    "'''\n",
    "npx remotion render <entry-point> <composition-id> <output-path> [options]\n",
    "\n",
    "# 示例\n",
    "npx remotion render src/index.ts MyImage --props=public/full_video/video_json-0c710c5d-4231-4d98-aa09-0a1a0996534c.json public/full_video/video-0c710c5d-4231-4d98-aa09-0a1a0996534c.mp4 --log=verbose\n",
    "\n",
    "npx remotion render src/index.ts MyAudio --props=public/full_video/video_json-0c710c5d-4231-4d98-aa09-0a1a0996534c.json public/full_video/video-0c710c5d-4231-4d98-aa09-0a1a0996534c.mp4 --log=verbose\n",
    "'''\n",
    "\n",
    "## 调试\n",
    "'''\n",
    "npx remotion studio --props=public/full_video/video_json-0c710c5d-4231-4d98-aa09-0a1a0996534c.json --config=remotion.config.ts --log=verbose\n",
    "'''"
   ]
  },
  {
   "cell_type": "code",
   "execution_count": null,
   "id": "ff89c7c3",
   "metadata": {},
   "outputs": [],
   "source": [
    "## 音频配置\n",
    "'''\n",
    "ffmpeg -i public/full_video/video-0c710c5d-4231-4d98-aa09-0a1a0996534c.mp4 -af loudnorm=I=-23:LRA=7:TP=-1.5:print_format=json -f null -\n",
    "\n",
    "ffmpeg -i public/sound/music/01.mp3 -af loudnorm=I=-23:LRA=7:TP=-1.5:print_format=json -f null -\n",
    "ffmpeg -i public/sound/music/1_01.mp3 -af loudnorm=I=-23:LRA=7:TP=-1.5:print_format=json -f null -\n",
    "'''\n",
    "\n",
    "## 剪辑\n",
    "'''\n",
    "ffmpeg -i public/full_video/video-0c710c5d-4231-4d98-aa09-0a1a0996534c.mp4 -af \"loudnorm=I=-23:LRA=7:TP=-1.5\" -c:v copy -c:a aac -b:a 192k public/full_video/1_video-0c710c5d-4231-4d98-aa09-0a1a0996534c.mp4\n",
    "\n",
    "### 将背景音标准化\n",
    "ffmpeg -i public/sound/music/01.mp3 -af \"loudnorm=I=-23:LRA=7:TP=-1.5\" -c:a libmp3lame -q:a 2 public/sound/music/1_01.mp3\n",
    "\n",
    "### 将背景音循环播放指定次数\n",
    "ffmpeg -stream_loop 5 -i public/sound/music/1_01.mp3 -c:a copy public/sound/music/loop_1_01.mp3\n",
    "\n",
    "### 将该背景音混合到mp4视频中, 并将背景音音量调整到0.5\n",
    "ffmpeg -y -i public/full_video/video-a628abb5-77ac-4f67-b7da-12cf82c0d37f.mp4 -stream_loop -1 -i public/sound/music/loop_1_01.mp3 -filter_complex \"[1:a]volume=0.5[bg];[0:a][bg]amix=inputs=2:duration=first:dropout_transition=2[a_out]\" -map 0:v -map \"[a_out]\" -c:v copy -c:a aac -shortest public/full_video/full_video-a628abb5-77ac-4f67-b7da-12cf82c0d37f.mp4\n",
    "'''\n",
    "\n"
   ]
  }
 ],
 "metadata": {
  "kernelspec": {
   "display_name": "base",
   "language": "python",
   "name": "python3"
  },
  "language_info": {
   "codemirror_mode": {
    "name": "ipython",
    "version": 3
   },
   "file_extension": ".py",
   "mimetype": "text/x-python",
   "name": "python",
   "nbconvert_exporter": "python",
   "pygments_lexer": "ipython3",
   "version": "3.12.2"
  }
 },
 "nbformat": 4,
 "nbformat_minor": 5
}
